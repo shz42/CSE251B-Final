{
 "cells": [
  {
   "cell_type": "code",
   "execution_count": 1,
   "metadata": {},
   "outputs": [],
   "source": [
    "import numpy as np\n",
    "import pandas as pd\n",
    "import ffmpeg\n",
    "from tqdm import tqdm"
   ]
  },
  {
   "cell_type": "code",
   "execution_count": 2,
   "metadata": {},
   "outputs": [],
   "source": [
    "def join_sentence(df:pd.DataFrame) -> pd.Series:\n",
    "\tseries = df.iloc[0]\n",
    "\tseries['w'] = ' '.join(df['w'])\n",
    "\tseries['e'] = df.iloc[-1]['e']\n",
    "\tseries['a'] = df['a'].min()\n",
    "\treturn series"
   ]
  },
  {
   "cell_type": "code",
   "execution_count": 4,
   "metadata": {},
   "outputs": [],
   "source": [
    "f = open('data/metadata.txt', 'ab')\n",
    "\n",
    "transcripts = dict[int, pd.DataFrame]()\n",
    "for lec in range(1,11):\n",
    "\ttranscript = pd.read_json(\n",
    "\t\tf'Text/Lec{lec}.json',\n",
    "\t\torient='records',\n",
    "\t\tdtype={'a': np.uint8}, # type: ignore\n",
    "\t)\n",
    "\ttranscript.drop(columns=['i','t'], inplace=True)\n",
    "\ttranscript[['s','e']] /= 1000\n",
    "\t# transcript\n",
    "\n",
    "\tsentences = transcript.groupby(\n",
    "\t\ttranscript['w'].str.endswith('.').shift(fill_value=False).cumsum(),\n",
    "\t\tas_index=True,\n",
    "\t).apply(join_sentence)\n",
    "\n",
    "\tsentences.index.name = 'i'\n",
    "\tsentences = sentences[sentences['a'] >= 70]\n",
    "\tsentences = sentences[sentences['w'].str.count(' ') >= 3]\n",
    "\tsentences.reset_index(inplace=True)\n",
    "\tnp.savetxt(f,(f'Lec{lec}-'+sentences['i'].apply(str)+('|'+sentences['w'])*2),fmt='%s')\n",
    "\ttranscripts[lec] = sentences\n",
    "\n",
    "f.close()"
   ]
  },
  {
   "cell_type": "code",
   "execution_count": null,
   "metadata": {},
   "outputs": [],
   "source": [
    "for lec in range(1,11):\n",
    "\t# mp4 (AAC) -> wav (PCM)\n",
    "\tffmpeg.input(f'Video/Lec{lec}.mp4').output(f'data/wavs/Lec{lec}-all.wav', ac=1, ar=22050).overwrite_output().run()\n",
    "\t# clips from the whole wav\n",
    "\tfor thread in tqdm([\n",
    "\t\tffmpeg.input(f'data/wavs/Lec{lec}-all.wav')\n",
    "\t\t\t.output(f'data/wavs/Lec{lec}-{t.i}.wav', ss=t.s, to=t.e)\n",
    "\t\t\t.overwrite_output()\n",
    "\t\t\t.run_async()\n",
    "\t\tfor t in tqdm(transcripts[lec].itertuples(), total=len(transcripts[lec]))\n",
    "\t]): thread.wait() # wait until all is done"
   ]
  },
  {
   "cell_type": "code",
   "execution_count": 5,
   "metadata": {},
   "outputs": [],
   "source": [
    "# from scipy.io import wavfile\n",
    "# wavfile.read('wavs/Lec1-1.wav')"
   ]
  },
  {
   "cell_type": "markdown",
   "metadata": {},
   "source": [
    "Post processing"
   ]
  },
  {
   "cell_type": "code",
   "execution_count": null,
   "metadata": {},
   "outputs": [],
   "source": [
    "import os\n",
    "import glob\n",
    "from pathlib import Path"
   ]
  },
  {
   "cell_type": "code",
   "execution_count": 9,
   "metadata": {},
   "outputs": [],
   "source": [
    "with open('data/metadata.txt', 'w') as o:\n",
    "\tfor fp in glob.glob('Text/Lec*.txt'):\n",
    "\t\tlec = Path(fp).stem\n",
    "\t\tlec_num = int(lec[3:])\n",
    "\t\tif lec_num <= 3:\n",
    "\t\t\twith open(fp, 'r') as f:\n",
    "\t\t\t\tfor l in f.readlines():\n",
    "\t\t\t\t\tclip, txt = l.split('|')\n",
    "\t\t\t\t\tid = Path(clip).stem\n",
    "\t\t\t\t\to.write('{}-{}|{}|{}'.format(lec, id, txt.strip(), txt))"
   ]
  }
 ],
 "metadata": {
  "kernelspec": {
   "display_name": "base",
   "language": "python",
   "name": "python3"
  },
  "language_info": {
   "codemirror_mode": {
    "name": "ipython",
    "version": 3
   },
   "file_extension": ".py",
   "mimetype": "text/x-python",
   "name": "python",
   "nbconvert_exporter": "python",
   "pygments_lexer": "ipython3",
   "version": "3.10.8"
  },
  "orig_nbformat": 4
 },
 "nbformat": 4,
 "nbformat_minor": 2
}
