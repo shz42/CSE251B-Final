{
 "cells": [
  {
   "cell_type": "code",
   "execution_count": 1,
   "metadata": {},
   "outputs": [
    {
     "ename": "ModuleNotFoundError",
     "evalue": "No module named 'ffmpeg'",
     "output_type": "error",
     "traceback": [
      "\u001b[0;31m---------------------------------------------------------------------------\u001b[0m",
      "\u001b[0;31mModuleNotFoundError\u001b[0m                       Traceback (most recent call last)",
      "Cell \u001b[0;32mIn[1], line 3\u001b[0m\n\u001b[1;32m      1\u001b[0m \u001b[39mimport\u001b[39;00m \u001b[39mnumpy\u001b[39;00m \u001b[39mas\u001b[39;00m \u001b[39mnp\u001b[39;00m\n\u001b[1;32m      2\u001b[0m \u001b[39mimport\u001b[39;00m \u001b[39mpandas\u001b[39;00m \u001b[39mas\u001b[39;00m \u001b[39mpd\u001b[39;00m\n\u001b[0;32m----> 3\u001b[0m \u001b[39mimport\u001b[39;00m \u001b[39mffmpeg\u001b[39;00m\n\u001b[1;32m      4\u001b[0m \u001b[39mfrom\u001b[39;00m \u001b[39mtqdm\u001b[39;00m \u001b[39mimport\u001b[39;00m tqdm\n",
      "\u001b[0;31mModuleNotFoundError\u001b[0m: No module named 'ffmpeg'"
     ]
    }
   ],
   "source": [
    "import numpy as np\n",
    "import pandas as pd\n",
    "import ffmpeg\n",
    "from tqdm import tqdm"
   ]
  },
  {
   "cell_type": "code",
   "execution_count": 2,
   "metadata": {},
   "outputs": [],
   "source": [
    "lec = 1\n",
    "transcript = pd.read_json(\n",
    "\tf'Data/Text/Lec{lec}.json',\n",
    "\torient='records',\n",
    "\tdtype={'a': np.uint8}, # type: ignore\n",
    ")\n",
    "transcript.drop(columns=['i','t'], inplace=True)\n",
    "transcript[['s','e']] /= 1000\n",
    "# transcript"
   ]
  },
  {
   "cell_type": "code",
   "execution_count": 3,
   "metadata": {},
   "outputs": [],
   "source": [
    "def join_sentence(df:pd.DataFrame) -> pd.Series:\n",
    "\tseries = df.iloc[0]\n",
    "\tseries['w'] = ' '.join(df['w'])\n",
    "\tseries['e'] = df.iloc[-1]['e']\n",
    "\tseries['a'] = df['a'].min()\n",
    "\treturn series\n",
    "\n",
    "sentences = transcript.groupby(\n",
    "\ttranscript['w'].str.endswith('.').shift(fill_value=False).cumsum(),\n",
    "\tas_index=True,\n",
    ").apply(join_sentence)\n",
    "\n",
    "sentences.index.name = 'i'\n",
    "sentences = sentences[sentences['a'] >= 70]\n",
    "sentences = sentences[sentences['w'].str.count(' ') >= 3]\n",
    "sentences.reset_index(inplace=True)\n",
    "np.savetxt(f'Data/Text/Lec{lec}.txt',(f'Data/Audio/Lec{lec}-'+sentences['i'].apply(str)+'.wav|'+sentences['w']),fmt='%s')\n",
    "# sentences"
   ]
  },
  {
   "cell_type": "code",
   "execution_count": 4,
   "metadata": {},
   "outputs": [
    {
     "name": "stderr",
     "output_type": "stream",
     "text": [
      "100%|██████████| 454/454 [00:08<00:00, 53.77it/s] \n",
      "100%|██████████| 454/454 [00:15<00:00, 29.41it/s] \n"
     ]
    }
   ],
   "source": [
    "# mp4 (AAC) -> wav (PCM)\n",
    "ffmpeg.input(f'Data/Video/Lec{lec}.mp4').output(f'Data/Audio/Lec{lec}.wav').overwrite_output().run()\n",
    "\n",
    "# clips from the whole wav\n",
    "for thread in tqdm([\n",
    "\tffmpeg.input(f'Data/Audio/Lec{lec}.wav')\n",
    "\t\t.output(f'Data/Audio/Lec{lec}-{t.i}.wav', ss=t.s, to=t.e)\n",
    "\t\t.overwrite_output()\n",
    "\t\t.run_async()\n",
    "\tfor t in tqdm(sentences.itertuples(), total=len(sentences))\n",
    "]): thread.wait() # wait until all is done"
   ]
  },
  {
   "cell_type": "code",
   "execution_count": 5,
   "metadata": {},
   "outputs": [],
   "source": [
    "# from scipy.io import wavfile\n",
    "# wavfile.read('Data/Audio/Lec1-1.wav')"
   ]
  },
  {
   "attachments": {},
   "cell_type": "markdown",
   "metadata": {},
   "source": [
    "Post processing"
   ]
  },
  {
   "cell_type": "code",
   "execution_count": 7,
   "metadata": {},
   "outputs": [],
   "source": [
    "import os\n",
    "import glob\n",
    "from pathlib import Path"
   ]
  },
  {
   "cell_type": "code",
   "execution_count": 10,
   "metadata": {},
   "outputs": [],
   "source": [
    "with open('data/metadata.txt', 'w') as o:\n",
    "\tfor fp in glob.glob('Text/*.txt'):\n",
    "\t\tlec = Path(fp).stem\n",
    "\t\twith open(fp, 'r') as f:\n",
    "\t\t\tfor l in f.readlines():\n",
    "\t\t\t\tclip, txt = l.split('|')\n",
    "\t\t\t\tid = Path(clip).stem\n",
    "\t\t\t\to.write('{}-{}|{}'.format(lec, id, txt))"
   ]
  },
  {
   "cell_type": "code",
   "execution_count": null,
   "metadata": {},
   "outputs": [],
   "source": []
  }
 ],
 "metadata": {
  "kernelspec": {
   "display_name": "base",
   "language": "python",
   "name": "python3"
  },
  "language_info": {
   "codemirror_mode": {
    "name": "ipython",
    "version": 3
   },
   "file_extension": ".py",
   "mimetype": "text/x-python",
   "name": "python",
   "nbconvert_exporter": "python",
   "pygments_lexer": "ipython3",
   "version": "3.8.3"
  },
  "orig_nbformat": 4
 },
 "nbformat": 4,
 "nbformat_minor": 2
}
