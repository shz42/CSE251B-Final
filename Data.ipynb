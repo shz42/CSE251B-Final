{
 "cells": [
  {
   "cell_type": "code",
   "execution_count": 1,
   "metadata": {},
   "outputs": [
    {
     "ename": "ModuleNotFoundError",
     "evalue": "No module named 'ffmpeg'",
     "output_type": "error",
     "traceback": [
      "\u001b[0;31m---------------------------------------------------------------------------\u001b[0m",
      "\u001b[0;31mModuleNotFoundError\u001b[0m                       Traceback (most recent call last)",
      "Cell \u001b[0;32mIn[1], line 3\u001b[0m\n\u001b[1;32m      1\u001b[0m \u001b[39mimport\u001b[39;00m \u001b[39mnumpy\u001b[39;00m \u001b[39mas\u001b[39;00m \u001b[39mnp\u001b[39;00m\n\u001b[1;32m      2\u001b[0m \u001b[39mimport\u001b[39;00m \u001b[39mpandas\u001b[39;00m \u001b[39mas\u001b[39;00m \u001b[39mpd\u001b[39;00m\n\u001b[0;32m----> 3\u001b[0m \u001b[39mimport\u001b[39;00m \u001b[39mffmpeg\u001b[39;00m\n\u001b[1;32m      4\u001b[0m \u001b[39mfrom\u001b[39;00m \u001b[39mtqdm\u001b[39;00m \u001b[39mimport\u001b[39;00m tqdm\n",
      "\u001b[0;31mModuleNotFoundError\u001b[0m: No module named 'ffmpeg'"
     ]
    }
   ],
   "source": [
    "import numpy as np\n",
    "import pandas as pd\n",
    "from pathlib import Path\n",
    "import ffmpeg\n",
    "from tqdm import tqdm"
   ]
  },
  {
   "cell_type": "code",
   "execution_count": 2,
   "metadata": {},
   "outputs": [],
   "source": [
    "def join_sentence(df:pd.DataFrame) -> pd.Series:\n",
    "\tseries = df.iloc[0]\n",
    "\tseries['w'] = ' '.join(df['w'])\n",
    "\tseries['e'] = df.iloc[-1]['e']\n",
    "\tseries['a'] = df['a'].min()\n",
    "\treturn series"
   ]
  },
  {
   "cell_type": "code",
   "execution_count": 3,
   "metadata": {},
   "outputs": [],
   "source": [
    "transcripts = dict[int, pd.DataFrame]()\n",
    "\n",
    "for lec in range(1,11):\n",
    "\ttranscript = pd.read_json(\n",
    "\t\tf'Data/Text/Lec{lec}.json',\n",
    "\t\torient='records',\n",
    "\t\tdtype={'a': np.uint8}, # type: ignore\n",
    "\t)\n",
    "\ttranscript.drop(columns=['i','t'], inplace=True)\n",
    "\ttranscript[['s','e']] /= 1000\n",
    "\t# transcript\n",
    "\n",
    "\tsentences = transcript.groupby(\n",
    "\t\ttranscript['w'].str.endswith('.').shift(fill_value=False).cumsum(),\n",
    "\t\tas_index=True,\n",
    "\t).apply(join_sentence)\n",
    "\n",
    "\tsentences.index.name = 'i'\n",
    "\tsentences = sentences[sentences['a'] >= 70]\n",
    "\tsentences = sentences[sentences['w'].str.count(' ') >= 3]\n",
    "\tsentences.reset_index(inplace=True)\n",
    "\t# np.savetxt(f'Data/Text/Lec{lec}.txt',(f'Data/Audio/Lec{lec}/'+sentences['i'].apply(str)+'.wav|'+sentences['w']),fmt='%s')\n",
    "\ttranscripts[lec] = sentences"
   ]
  },
  {
   "cell_type": "code",
   "execution_count": null,
   "metadata": {},
   "outputs": [],
   "source": [
    "for lec in range(3,4):\n",
    "\tPath(f'Data/Audio/Lec{lec}').mkdir(parents=True,exist_ok=True)\n",
    "\t# mp4 (AAC) -> wav (PCM)\n",
    "\tffmpeg.input(f'Data/Video/Lec{lec}.mp4').output(f'Data/Audio/Lec{lec}/.wav').overwrite_output().run()\n",
    "\n",
    "\t# clips from the whole wav\n",
    "\tfor thread in tqdm([\n",
    "\t\tffmpeg.input(f'Data/Audio/Lec{lec}/.wav')\n",
    "\t\t\t.output(f'Data/Audio/Lec{lec}/{t.i}.wav', ss=t.s, to=t.e)\n",
    "\t\t\t.overwrite_output()\n",
    "\t\t\t.run_async()\n",
    "\t\tfor t in tqdm(transcripts[lec].itertuples(), total=len(transcripts[lec]))\n",
    "\t]): thread.wait() # wait until all is done"
   ]
  },
  {
   "cell_type": "code",
   "execution_count": 5,
   "metadata": {},
   "outputs": [],
   "source": [
    "# from scipy.io import wavfile\n",
    "# wavfile.read('Data/Audio/Lec1-1.wav')"
   ]
  },
  {
   "attachments": {},
   "cell_type": "markdown",
   "metadata": {},
   "source": [
    "Post processing"
   ]
  },
  {
   "cell_type": "code",
   "execution_count": 7,
   "metadata": {},
   "outputs": [],
   "source": [
    "import os\n",
    "import glob\n",
    "from pathlib import Path"
   ]
  },
  {
   "cell_type": "code",
   "execution_count": 10,
   "metadata": {},
   "outputs": [],
   "source": [
    "with open('data/metadata.txt', 'w') as o:\n",
    "\tfor fp in glob.glob('Text/*.txt'):\n",
    "\t\tlec = Path(fp).stem\n",
    "\t\twith open(fp, 'r') as f:\n",
    "\t\t\tfor l in f.readlines():\n",
    "\t\t\t\tclip, txt = l.split('|')\n",
    "\t\t\t\tid = Path(clip).stem\n",
    "\t\t\t\to.write('{}-{}|{}'.format(lec, id, txt))"
   ]
  },
  {
   "cell_type": "code",
   "execution_count": null,
   "metadata": {},
   "outputs": [],
   "source": []
  }
 ],
 "metadata": {
  "kernelspec": {
   "display_name": "base",
   "language": "python",
   "name": "python3"
  },
  "language_info": {
   "codemirror_mode": {
    "name": "ipython",
    "version": 3
   },
   "file_extension": ".py",
   "mimetype": "text/x-python",
   "name": "python",
   "nbconvert_exporter": "python",
   "pygments_lexer": "ipython3",
   "version": "3.8.3"
  },
  "orig_nbformat": 4
 },
 "nbformat": 4,
 "nbformat_minor": 2
}
