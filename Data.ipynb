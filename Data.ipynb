{
 "cells": [
  {
   "cell_type": "code",
   "execution_count": 1,
   "metadata": {},
   "outputs": [],
   "source": [
    "import numpy as np\n",
    "import pandas as pd\n",
    "import ffmpeg\n",
    "from tqdm import tqdm"
   ]
  },
  {
   "cell_type": "code",
   "execution_count": 2,
   "metadata": {},
   "outputs": [],
   "source": [
    "lec = 1\n",
    "transcript = pd.read_json(\n",
    "\tf'Data/Text/Lec{lec}.json',\n",
    "\torient='records',\n",
    "\tdtype={'a': np.uint8}, # type: ignore\n",
    ")\n",
    "transcript.drop(columns=['i','t'], inplace=True)\n",
    "transcript[['s','e']] /= 1000\n",
    "# transcript"
   ]
  },
  {
   "cell_type": "code",
   "execution_count": 8,
   "metadata": {},
   "outputs": [
    {
     "name": "stdout",
     "output_type": "stream",
     "text": [
      "0.70595690747782\n"
     ]
    }
   ],
   "source": [
    "def join_sentence(df:pd.DataFrame) -> pd.Series:\n",
    "\tseries = df.iloc[0]\n",
    "\tseries['w'] = ' '.join(df['w'])\n",
    "\tseries['e'] = df.iloc[-1]['e']\n",
    "\tseries['a'] = df['a'].min()\n",
    "\treturn series\n",
    "\n",
    "sentences = transcript.groupby(\n",
    "\ttranscript['w'].str.endswith('.').shift(fill_value=False).cumsum(),\n",
    "\tas_index=True,\n",
    ").apply(join_sentence)\n",
    "\n",
    "sentences.index.name = 'i'\n",
    "sentences = sentences[sentences['a'] >= 70]\n",
    "sentences = sentences[sentences['w'].str.count(' ') >= 3]\n",
    "sentences.reset_index(inplace=True)\n",
    "# # sentences.to_feather(f'Data/Text/Lec{lec}.feather') # save?\n",
    "# sentences"
   ]
  },
  {
   "cell_type": "code",
   "execution_count": 4,
   "metadata": {},
   "outputs": [
    {
     "name": "stderr",
     "output_type": "stream",
     "text": [
      "100%|██████████| 454/454 [00:11<00:00, 40.00it/s]\n",
      "100%|██████████| 454/454 [00:15<00:00, 28.52it/s] \n"
     ]
    }
   ],
   "source": [
    "# mp4 (AAC) -> wav (PCM)\n",
    "ffmpeg.input(f'Data/Video/Lec{lec}.mp4').output(f'Data/Audio/Lec{lec}.wav').overwrite_output().run()\n",
    "\n",
    "# clips from the whole wav\n",
    "for thread in tqdm([\n",
    "\tffmpeg.input(f'Data/Audio/Lec{lec}.wav')\n",
    "\t\t.output(f'Data/Audio/Lec{lec}-{t.i}.wav', ss=t.s, to=t.e)\n",
    "\t\t.overwrite_output()\n",
    "\t\t.run_async()\n",
    "\tfor t in tqdm(sentences.itertuples(), total=len(sentences))\n",
    "]): thread.wait() # wait until all is done"
   ]
  },
  {
   "cell_type": "code",
   "execution_count": 5,
   "metadata": {},
   "outputs": [],
   "source": [
    "# from scipy.io import wavfile\n",
    "# wavfile.read('Data/Audio/Lec1-1.wav')"
   ]
  }
 ],
 "metadata": {
  "kernelspec": {
   "display_name": "base",
   "language": "python",
   "name": "python3"
  },
  "language_info": {
   "codemirror_mode": {
    "name": "ipython",
    "version": 3
   },
   "file_extension": ".py",
   "mimetype": "text/x-python",
   "name": "python",
   "nbconvert_exporter": "python",
   "pygments_lexer": "ipython3",
   "version": "3.10.8"
  },
  "orig_nbformat": 4
 },
 "nbformat": 4,
 "nbformat_minor": 2
}
