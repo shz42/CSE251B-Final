{
  "cells": [
    {
      "cell_type": "code",
      "execution_count": null,
      "metadata": {
        "colab": {
          "base_uri": "https://localhost:8080/",
          "height": 1000
        },
        "id": "OZ7-rM4KgmK2",
        "outputId": "5f8c577f-fe24-452e-8137-76fd903c29b4"
      },
      "outputs": [],
      "source": [
        "# RUN AT FIRST TIME:\n",
        "\n",
        "!pip install ffmpeg\n",
        "!pip install nltk\n",
        "!pip install tqdm\n",
        "!pip install TTS\n",
        "import numpy as np\n",
        "import pandas as pd\n",
        "import os\n",
        "import ffmpeg\n",
        "from nltk.tokenize import sent_tokenize\n",
        "from tqdm import tqdm\n",
        "from itertools import chain"
      ]
    },
    {
      "cell_type": "code",
      "execution_count": null,
      "metadata": {
        "id": "5O5f9rP0ofb_"
      },
      "outputs": [],
      "source": []
    },
    {
      "cell_type": "code",
      "execution_count": null,
      "metadata": {
        "colab": {
          "base_uri": "https://localhost:8080/"
        },
        "id": "fw6YhdqigsyE",
        "outputId": "dbf8238e-9d64-41a1-ee0d-b64d3c5292a4"
      },
      "outputs": [],
      "source": [
        "\n",
        "# from google.colab import drive\n",
        "# !gdown 1ho8yvOuAhYZYgvMy66SUICjFSyEzsLoW\n",
        "# # !git clone\n",
        "# !unzip data.zip"
      ]
    },
    {
      "cell_type": "code",
      "execution_count": 2,
      "metadata": {
        "colab": {
          "base_uri": "https://localhost:8080/"
        },
        "id": "o6DqOXjxkb4F",
        "outputId": "eec42101-c402-488e-ac4b-c0e9fa2741d7"
      },
      "outputs": [
        {
          "name": "stdout",
          "output_type": "stream",
          "text": [
            "Cloning into 'CSE251B-Final'...\n",
            "remote: Enumerating objects: 743, done.\u001b[K\n",
            "remote: Counting objects: 100% (743/743), done.\u001b[K\n",
            "remote: Compressing objects: 100% (530/530), done.\u001b[K\n",
            "remote: Total 743 (delta 158), reused 735 (delta 153), pack-reused 0\u001b[K\n",
            "Receiving objects: 100% (743/743), 14.43 MiB | 18.58 MiB/s, done.\n",
            "Resolving deltas: 100% (158/158), done.\n"
          ]
        }
      ],
      "source": [
        "!git clone https://github.com/shz42/CSE251B-Final.git"
      ]
    },
    {
      "cell_type": "code",
      "execution_count": 3,
      "metadata": {
        "colab": {
          "base_uri": "https://localhost:8080/"
        },
        "id": "eU45V4EzksPb",
        "outputId": "38cd1c5f-4424-4b8b-b151-2ceffef17605"
      },
      "outputs": [
        {
          "name": "stdout",
          "output_type": "stream",
          "text": [
            "/content/CSE251B-Final/TTS\n"
          ]
        }
      ],
      "source": [
        "%cd CSE251B-Final/TTS/\n"
      ]
    },
    {
      "cell_type": "code",
      "execution_count": 4,
      "metadata": {
        "colab": {
          "base_uri": "https://localhost:8080/"
        },
        "id": "-z2EJrjhk9S5",
        "outputId": "bf5a68fd-950d-438d-fd78-ae2393881d66"
      },
      "outputs": [
        {
          "name": "stdout",
          "output_type": "stream",
          "text": [
            "CITATION.cff\t    hubconf.py\t pyproject.toml\t\t     run_bash_tests.sh\n",
            "CODE_OF_CONDUCT.md  images\t README.md\t\t     setup.cfg\n",
            "CODE_OWNERS.rst     LICENSE.txt  recipes\t\t     setup.py\n",
            "CONTRIBUTING.md     Makefile\t requirements.dev.txt\t     tests\n",
            "Dockerfile\t    MANIFEST.in  requirements.notebooks.txt  TTS\n",
            "docs\t\t    notebooks\t requirements.txt\n"
          ]
        }
      ],
      "source": [
        "!ls"
      ]
    },
    {
      "cell_type": "code",
      "execution_count": 5,
      "metadata": {
        "colab": {
          "base_uri": "https://localhost:8080/"
        },
        "id": "1MYZzv8HwUW5",
        "outputId": "5b419355-e6d8-4cf8-e3e1-630a5c2f4207"
      },
      "outputs": [
        {
          "name": "stdout",
          "output_type": "stream",
          "text": [
            "/content/CSE251B-Final/TTS/recipes/leclec/vits_tts\n",
            "lec-tuning-March-14-2023_10+01AM-b8d9837d  test.wav  train_vits.py\n"
          ]
        }
      ],
      "source": [
        "%cd recipes/leclec\n",
        "!ls"
      ]
    },
    {
      "cell_type": "code",
      "execution_count": 6,
      "metadata": {
        "id": "VHsxTJIijzo0"
      },
      "outputs": [],
      "source": [
        "!mkdir data\n",
        "\n",
        "# from google.colab import drive\n",
        "# !gdown 1ho8yvOuAhYZYgvMy66SUICjFSyEzsLoW \n",
        "# # !git clone\n",
        "# !unzip data.zip\n",
        "\n"
      ]
    },
    {
      "cell_type": "code",
      "execution_count": null,
      "metadata": {
        "colab": {
          "base_uri": "https://localhost:8080/"
        },
        "id": "eJM9T28X3gwn",
        "outputId": "ea32de87-6b92-4c3b-e949-05bd96d885b8"
      },
      "outputs": [],
      "source": [
        "%cd data\n",
        "from google.colab import drive\n",
        "!gdown 1ho8yvOuAhYZYgvMy66SUICjFSyEzsLoW \n",
        "# !git clone\n",
        "!unzip data.zip\n"
      ]
    },
    {
      "cell_type": "code",
      "execution_count": null,
      "metadata": {
        "colab": {
          "base_uri": "https://localhost:8080/"
        },
        "id": "wHvmNwoJxQiX",
        "outputId": "7b696787-3779-4a93-d870-0e275d4c2498"
      },
      "outputs": [],
      "source": [
        "# install and setup\n",
        "!pip install py-espeak-ng\n",
        "\n"
      ]
    },
    {
      "cell_type": "code",
      "execution_count": null,
      "metadata": {
        "colab": {
          "base_uri": "https://localhost:8080/"
        },
        "id": "FkmDOXvAQFfR",
        "outputId": "62bb642c-1532-494a-d35a-6538ce6fcca7"
      },
      "outputs": [],
      "source": [
        "# !pip install python-espeak"
      ]
    },
    {
      "cell_type": "code",
      "execution_count": 10,
      "metadata": {
        "colab": {
          "base_uri": "https://localhost:8080/"
        },
        "id": "8BACO4Msx3Ox",
        "outputId": "61b8909c-ac1b-4f10-ea50-4fb14f560b1e"
      },
      "outputs": [
        {
          "name": "stdout",
          "output_type": "stream",
          "text": [
            "/content/CSE251B-Final/TTS\n"
          ]
        }
      ],
      "source": [
        "%cd /content/CSE251B-Final/TTS\n"
      ]
    },
    {
      "cell_type": "code",
      "execution_count": null,
      "metadata": {
        "colab": {
          "base_uri": "https://localhost:8080/"
        },
        "id": "aYkfIJcnyIpv",
        "outputId": "7a7ff0ff-c9c5-4c9a-f7f4-04005fa7f8d5"
      },
      "outputs": [
        {
          "name": "stdout",
          "output_type": "stream",
          "text": [
            "/usr/local/lib/python3.9/dist-packages/setuptools/dist.py:771: UserWarning: Usage of dash-separated 'build-lib' will not be supported in future versions. Please use the underscore name 'build_lib' instead\n",
            "  warnings.warn(\n",
            "/usr/local/lib/python3.9/dist-packages/setuptools/dist.py:771: UserWarning: Usage of dash-separated 'build-dir' will not be supported in future versions. Please use the underscore name 'build_dir' instead\n",
            "  warnings.warn(\n",
            "usage: setup.py [global_opts] cmd1 [cmd1_opts] [cmd2 [cmd2_opts] ...]\n",
            "   or: setup.py --help [cmd1 cmd2 ...]\n",
            "   or: setup.py --help-commands\n",
            "   or: setup.py cmd --help\n",
            "\n",
            "error: no commands supplied\n"
          ]
        }
      ],
      "source": [
        "# import os\n",
        "\n",
        "# old_name = r\"/content/CSE251B-Final/TTS/recipes/leclec/vits_tts/wavs\"\n",
        "# new_name = r\"/content/CSE251B-Final/TTS/recipes/leclec/vits_tts/data\"\n",
        "# os.rename(old_name, new_name)\n",
        "# #and need to change metadata.txt to data foler "
      ]
    },
    {
      "cell_type": "code",
      "execution_count": 11,
      "metadata": {
        "colab": {
          "base_uri": "https://localhost:8080/"
        },
        "id": "ktORrYyYxeNe",
        "outputId": "79be034f-df0b-481a-872d-3e649deee999"
      },
      "outputs": [
        {
          "name": "stdout",
          "output_type": "stream",
          "text": [
            "/content/CSE251B-Final/TTS/recipes/leclec/vits_tts\n"
          ]
        }
      ],
      "source": [
        "%cd recipes/leclec/vits_tts"
      ]
    },
    {
      "cell_type": "code",
      "execution_count": null,
      "metadata": {
        "colab": {
          "base_uri": "https://localhost:8080/"
        },
        "id": "y_3yGpV-RzcA",
        "outputId": "952964e5-f0e7-4bc2-a6f3-14a9fafacc26"
      },
      "outputs": [],
      "source": [
        "!apt-get install espeak"
      ]
    },
    {
      "cell_type": "code",
      "execution_count": 22,
      "metadata": {
        "colab": {
          "base_uri": "https://localhost:8080/"
        },
        "id": "csA9lwhpRZzh",
        "outputId": "0dc28ec1-edd0-4665-e349-eb7fc40f3e38"
      },
      "outputs": [
        {
          "name": "stdout",
          "output_type": "stream",
          "text": [
            " Name format: type/language/dataset/model\n",
            " 1: tts_models/multilingual/multi-dataset/your_tts\n",
            " 2: tts_models/bg/cv/vits\n",
            " 3: tts_models/cs/cv/vits\n",
            " 4: tts_models/da/cv/vits\n",
            " 5: tts_models/et/cv/vits\n",
            " 6: tts_models/ga/cv/vits\n",
            " 7: tts_models/en/ek1/tacotron2\n",
            " 8: tts_models/en/ljspeech/tacotron2-DDC\n",
            " 9: tts_models/en/ljspeech/tacotron2-DDC_ph\n",
            " 10: tts_models/en/ljspeech/glow-tts\n",
            " 11: tts_models/en/ljspeech/speedy-speech\n",
            " 12: tts_models/en/ljspeech/tacotron2-DCA\n",
            " 13: tts_models/en/ljspeech/vits\n",
            " 14: tts_models/en/ljspeech/vits--neon\n",
            " 15: tts_models/en/ljspeech/fast_pitch\n",
            " 16: tts_models/en/ljspeech/overflow\n",
            " 17: tts_models/en/ljspeech/neural_hmm\n",
            " 18: tts_models/en/vctk/vits\n",
            " 19: tts_models/en/vctk/fast_pitch\n",
            " 20: tts_models/en/sam/tacotron-DDC\n",
            " 21: tts_models/en/blizzard2013/capacitron-t2-c50\n",
            " 22: tts_models/en/blizzard2013/capacitron-t2-c150_v2\n",
            " 23: tts_models/es/mai/tacotron2-DDC\n",
            " 24: tts_models/es/css10/vits\n",
            " 25: tts_models/fr/mai/tacotron2-DDC\n",
            " 26: tts_models/fr/css10/vits\n",
            " 27: tts_models/uk/mai/glow-tts\n",
            " 28: tts_models/uk/mai/vits\n",
            " 29: tts_models/zh-CN/baker/tacotron2-DDC-GST\n",
            " 30: tts_models/nl/mai/tacotron2-DDC\n",
            " 31: tts_models/nl/css10/vits\n",
            " 32: tts_models/de/thorsten/tacotron2-DCA\n",
            " 33: tts_models/de/thorsten/vits\n",
            " 34: tts_models/de/thorsten/tacotron2-DDC\n",
            " 35: tts_models/de/css10/vits-neon\n",
            " 36: tts_models/ja/kokoro/tacotron2-DDC\n",
            " 37: tts_models/tr/common-voice/glow-tts\n",
            " 38: tts_models/it/mai_female/glow-tts\n",
            " 39: tts_models/it/mai_female/vits\n",
            " 40: tts_models/it/mai_male/glow-tts\n",
            " 41: tts_models/it/mai_male/vits\n",
            " 42: tts_models/ewe/openbible/vits\n",
            " 43: tts_models/hau/openbible/vits\n",
            " 44: tts_models/lin/openbible/vits\n",
            " 45: tts_models/tw_akuapem/openbible/vits\n",
            " 46: tts_models/tw_asante/openbible/vits\n",
            " 47: tts_models/yor/openbible/vits\n",
            " 48: tts_models/hu/css10/vits\n",
            " 49: tts_models/el/cv/vits\n",
            " 50: tts_models/fi/css10/vits\n",
            " 51: tts_models/hr/cv/vits\n",
            " 52: tts_models/lt/cv/vits\n",
            " 53: tts_models/lv/cv/vits\n",
            " 54: tts_models/mt/cv/vits\n",
            " 55: tts_models/pl/mai_female/vits\n",
            " 56: tts_models/pt/cv/vits\n",
            " 57: tts_models/ro/cv/vits\n",
            " 58: tts_models/sk/cv/vits\n",
            " 59: tts_models/sl/cv/vits\n",
            " 60: tts_models/sv/cv/vits\n",
            " 61: tts_models/ca/custom/vits\n",
            " 62: tts_models/fa/custom/glow-tts\n",
            " Name format: type/language/dataset/model\n",
            " 1: vocoder_models/universal/libri-tts/wavegrad\n",
            " 2: vocoder_models/universal/libri-tts/fullband-melgan\n",
            " 3: vocoder_models/en/ek1/wavegrad\n",
            " 4: vocoder_models/en/ljspeech/multiband-melgan\n",
            " 5: vocoder_models/en/ljspeech/hifigan_v2\n",
            " 6: vocoder_models/en/ljspeech/univnet\n",
            " 7: vocoder_models/en/blizzard2013/hifigan_v2\n",
            " 8: vocoder_models/en/vctk/hifigan_v2\n",
            " 9: vocoder_models/en/sam/hifigan_v2\n",
            " 10: vocoder_models/nl/mai/parallel-wavegan\n",
            " 11: vocoder_models/de/thorsten/wavegrad\n",
            " 12: vocoder_models/de/thorsten/fullband-melgan\n",
            " 13: vocoder_models/de/thorsten/hifigan_v1\n",
            " 14: vocoder_models/ja/kokoro/hifigan_v1\n",
            " 15: vocoder_models/uk/mai/multiband-melgan\n",
            " 16: vocoder_models/tr/common-voice/hifigan\n"
          ]
        }
      ],
      "source": [
        "!pwd\n",
        "!tts --list_models"
      ]
    },
    {
      "cell_type": "code",
      "execution_count": null,
      "metadata": {
        "colab": {
          "base_uri": "https://localhost:8080/"
        },
        "id": "GVQ3hiCiSsVB",
        "outputId": "75f57557-d08f-4566-f56b-1b05d9ed9a5e"
      },
      "outputs": [],
      "source": [
        "!tts --model_name tts_models/en/ljspeech/vits --text \"Ola.\""
      ]
    },
    {
      "cell_type": "code",
      "execution_count": null,
      "metadata": {
        "colab": {
          "base_uri": "https://localhost:8080/"
        },
        "id": "23zhyTtFhphK",
        "outputId": "90f1643f-4eb6-4a95-db96-d114f07b1717"
      },
      "outputs": [],
      "source": [
        "!python /content/CSE251B-Final/TTS/recipes/leclec/vits_tts/train_vits.py \\\n",
        "    --restore_path  /root/.local/share/tts/tts_models--en--ljspeech--vits/model_file.pth"
      ]
    },
    {
      "cell_type": "code",
      "execution_count": null,
      "metadata": {
        "colab": {
          "base_uri": "https://localhost:8080/"
        },
        "id": "u_tncS_3bZ5P",
        "outputId": "11097d3c-de96-429e-f618-d441d035c61e"
      },
      "outputs": [],
      "source": []
    },
    {
      "cell_type": "code",
      "execution_count": null,
      "metadata": {
        "id": "K-YrMinEfjlO"
      },
      "outputs": [],
      "source": []
    },
    {
      "cell_type": "code",
      "execution_count": null,
      "metadata": {
        "colab": {
          "base_uri": "https://localhost:8080/",
          "height": 132
        },
        "id": "XYMldpN0Sea5",
        "outputId": "58b15b62-6c77-408a-d5c0-efd20d282223"
      },
      "outputs": [],
      "source": []
    },
    {
      "cell_type": "code",
      "execution_count": null,
      "metadata": {
        "colab": {
          "base_uri": "https://localhost:8080/"
        },
        "id": "Px7PGv6EmTTE",
        "outputId": "1204a0f1-a406-4366-d95f-ee80ee8acac9"
      },
      "outputs": [],
      "source": [
        "!python train_vits.py\n"
      ]
    },
    {
      "cell_type": "code",
      "execution_count": null,
      "metadata": {
        "id": "1os86SLPoTDV"
      },
      "outputs": [],
      "source": [
        "!python TTS/recipes/leclec/vits_tts/train_vits.py"
      ]
    },
    {
      "cell_type": "code",
      "execution_count": null,
      "metadata": {
        "colab": {
          "base_uri": "https://localhost:8080/"
        },
        "id": "5HYzt65FPv2b",
        "outputId": "0c56234c-c890-4d09-ae43-e0c560c2c12c"
      },
      "outputs": [],
      "source": []
    },
    {
      "cell_type": "code",
      "execution_count": 16,
      "metadata": {
        "colab": {
          "base_uri": "https://localhost:8080/"
        },
        "id": "j9kEQuO_Fu9D",
        "outputId": "4c04009b-2db0-4377-f74f-f97a6f298140"
      },
      "outputs": [
        {
          "name": "stdout",
          "output_type": "stream",
          "text": [
            "Mon Mar 20 03:36:31 2023       \n",
            "+-----------------------------------------------------------------------------+\n",
            "| NVIDIA-SMI 525.85.12    Driver Version: 525.85.12    CUDA Version: 12.0     |\n",
            "|-------------------------------+----------------------+----------------------+\n",
            "| GPU  Name        Persistence-M| Bus-Id        Disp.A | Volatile Uncorr. ECC |\n",
            "| Fan  Temp  Perf  Pwr:Usage/Cap|         Memory-Usage | GPU-Util  Compute M. |\n",
            "|                               |                      |               MIG M. |\n",
            "|===============================+======================+======================|\n",
            "|   0  Tesla T4            Off  | 00000000:00:04.0 Off |                    0 |\n",
            "| N/A   70C    P0    31W /  70W |      0MiB / 15360MiB |      0%      Default |\n",
            "|                               |                      |                  N/A |\n",
            "+-------------------------------+----------------------+----------------------+\n",
            "                                                                               \n",
            "+-----------------------------------------------------------------------------+\n",
            "| Processes:                                                                  |\n",
            "|  GPU   GI   CI        PID   Type   Process name                  GPU Memory |\n",
            "|        ID   ID                                                   Usage      |\n",
            "|=============================================================================|\n",
            "|  No running processes found                                                 |\n",
            "+-----------------------------------------------------------------------------+\n"
          ]
        }
      ],
      "source": [
        "!nvidia-smi"
      ]
    }
  ],
  "metadata": {
    "accelerator": "GPU",
    "colab": {
      "provenance": []
    },
    "gpuClass": "standard",
    "kernelspec": {
      "display_name": "base",
      "language": "python",
      "name": "python3"
    },
    "language_info": {
      "codemirror_mode": {
        "name": "ipython",
        "version": 3
      },
      "file_extension": ".py",
      "mimetype": "text/x-python",
      "name": "python",
      "nbconvert_exporter": "python",
      "pygments_lexer": "ipython3",
      "version": "3.10.9"
    },
    "orig_nbformat": 4
  },
  "nbformat": 4,
  "nbformat_minor": 0
}
